{
  "nbformat": 4,
  "nbformat_minor": 0,
  "metadata": {
    "colab": {
      "provenance": [],
      "history_visible": true,
      "authorship_tag": "ABX9TyNx3joMExiUP45lkgzPabDX",
      "include_colab_link": true
    },
    "kernelspec": {
      "name": "python3",
      "display_name": "Python 3"
    },
    "language_info": {
      "name": "python"
    }
  },
  "cells": [
    {
      "cell_type": "markdown",
      "metadata": {
        "id": "view-in-github",
        "colab_type": "text"
      },
      "source": [
        "<a href=\"https://colab.research.google.com/github/BingZ09/Python-100-Days/blob/master/Day1.ipynb\" target=\"_parent\"><img src=\"https://colab.research.google.com/assets/colab-badge.svg\" alt=\"Open In Colab\"/></a>"
      ]
    },
    {
      "cell_type": "code",
      "execution_count": 1,
      "metadata": {
        "colab": {
          "base_uri": "https://localhost:8080/"
        },
        "id": "fxW8n3kXFifa",
        "outputId": "2f4547f8-84f8-44a6-fb39-d9b220b0caa7"
      },
      "outputs": [
        {
          "output_type": "stream",
          "name": "stdout",
          "text": [
            "120\n"
          ]
        }
      ],
      "source": [
        "def fact(n):\n",
        "    if n == 1:\n",
        "        return 1\n",
        "    return n * fact(n - 1)\n",
        "\n",
        "print(fact(5))"
      ]
    },
    {
      "cell_type": "markdown",
      "source": [
        "this is"
      ],
      "metadata": {
        "id": "VU_hQhqkHBL4"
      }
    },
    {
      "cell_type": "code",
      "source": [],
      "metadata": {
        "id": "Mzfv-0hDHTe2"
      },
      "execution_count": null,
      "outputs": []
    }
  ]
}